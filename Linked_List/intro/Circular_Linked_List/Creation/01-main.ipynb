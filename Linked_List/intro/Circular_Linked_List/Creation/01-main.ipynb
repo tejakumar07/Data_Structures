{
 "cells": [
  {
   "metadata": {
    "ExecuteTime": {
     "end_time": "2025-08-31T04:36:00.774492Z",
     "start_time": "2025-08-31T04:36:00.760460Z"
    }
   },
   "cell_type": "code",
   "source": [
    "class Node:\n",
    "    def __init__(self, data):\n",
    "        self.data = data\n",
    "        self.next = None"
   ],
   "id": "fbf425408e3601f9",
   "outputs": [],
   "execution_count": 1
  },
  {
   "metadata": {
    "ExecuteTime": {
     "end_time": "2025-08-31T04:38:25.683843Z",
     "start_time": "2025-08-31T04:38:25.678172Z"
    }
   },
   "cell_type": "code",
   "source": [
    "class CircularLinkedList:\n",
    "    def __init__(self):\n",
    "        self.head = None\n",
    "\n",
    "    def display(self):\n",
    "        if self.head is None:\n",
    "            print(\"Linked List is Empty\")\n",
    "            return\n",
    "\n",
    "        itr = self.head\n",
    "\n",
    "        while True:\n",
    "            print(itr.data, end = \"->\")\n",
    "            itr = itr.next\n",
    "            if itr == self.head:\n",
    "                return"
   ],
   "id": "49fd8458d2148838",
   "outputs": [],
   "execution_count": 4
  },
  {
   "metadata": {
    "ExecuteTime": {
     "end_time": "2025-08-31T04:41:15.703647Z",
     "start_time": "2025-08-31T04:41:15.696856Z"
    }
   },
   "cell_type": "code",
   "source": [
    "if __name__ == \"__main__\":\n",
    "    cll = CircularLinkedList()\n",
    "    node1 = Node(1)\n",
    "    node2 = Node(3)\n",
    "    node3 = Node(5)\n",
    "    node4 = Node(7)\n",
    "    node5 = Node(9)\n",
    "    node6 = Node(10)\n",
    "    node7 = Node(11)\n",
    "    cll.head = node1\n",
    "    node1.next = node2\n",
    "    node2.next = node3\n",
    "    node3.next = node4\n",
    "    node4.next = node5\n",
    "    node5.next = node6\n",
    "    node6.next = node7\n",
    "    node7.next = cll.head\n",
    "    cll.display()"
   ],
   "id": "6d0507506a75bb53",
   "outputs": [
    {
     "name": "stdout",
     "output_type": "stream",
     "text": [
      "1->3->5->7->9->10->11->"
     ]
    }
   ],
   "execution_count": 7
  }
 ],
 "metadata": {
  "kernelspec": {
   "name": "python3",
   "language": "python",
   "display_name": "Python 3 (ipykernel)"
  }
 },
 "nbformat": 4,
 "nbformat_minor": 5
}
