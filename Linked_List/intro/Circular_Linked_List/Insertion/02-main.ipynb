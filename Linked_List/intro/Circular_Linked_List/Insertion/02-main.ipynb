{
 "cells": [
  {
   "metadata": {
    "ExecuteTime": {
     "end_time": "2025-08-31T05:34:05.155592Z",
     "start_time": "2025-08-31T05:34:05.150772Z"
    }
   },
   "cell_type": "code",
   "source": [
    "class Node:\n",
    "    def __init__(self, data):\n",
    "        self.data = data\n",
    "        self.next = None"
   ],
   "id": "ce789a1767667732",
   "outputs": [],
   "execution_count": 1
  },
  {
   "metadata": {
    "ExecuteTime": {
     "end_time": "2025-08-31T05:45:34.765840Z",
     "start_time": "2025-08-31T05:45:34.760769Z"
    }
   },
   "cell_type": "code",
   "source": [
    "class CircularLinkedList:\n",
    "    def __init__(self):\n",
    "        self.head = None\n",
    "\n",
    "    def display(self):\n",
    "        if self.head is None:\n",
    "            print(\"Linked List is Empty\")\n",
    "            return\n",
    "\n",
    "        itr = self.head\n",
    "        while True:\n",
    "            print(itr.data, end = \"->\")\n",
    "            itr = itr.next\n",
    "            if itr == self.head:\n",
    "                print(\"(back to end)\")\n",
    "                return\n",
    "\n",
    "    def insertion_at_ends(self, data):\n",
    "        new_node = Node(data)\n",
    "        if self.head is None:\n",
    "            self.head = new_node\n",
    "            new_node.next = self.head\n",
    "            return\n",
    "\n",
    "        last = self.head\n",
    "        while last.next != self.head:\n",
    "            last = last.next\n",
    "\n",
    "        new_node.next = self.head\n",
    "        last.next = new_node\n"
   ],
   "id": "f8eed0c66ef872e9",
   "outputs": [],
   "execution_count": 12
  },
  {
   "metadata": {
    "ExecuteTime": {
     "end_time": "2025-08-31T05:45:36.897330Z",
     "start_time": "2025-08-31T05:45:36.893067Z"
    }
   },
   "cell_type": "code",
   "source": [
    "if __name__ == \"__main__\":\n",
    "    cll = CircularLinkedList()\n",
    "    node1 = Node(1)\n",
    "    node2 = Node(3)\n",
    "    node3 = Node(5)\n",
    "    node4 = Node(7)\n",
    "    node5 = Node(9)\n",
    "    node6 = Node(10)\n",
    "    node7 = Node(11)\n",
    "    cll.head = node1\n",
    "    node1.next = node2\n",
    "    node2.next = node3\n",
    "    node3.next = node4\n",
    "    node4.next = node5\n",
    "    node5.next = node6\n",
    "    node6.next = node7\n",
    "    node7.next = cll.head\n",
    "    cll.display()\n",
    "    cll.insertion_at_ends(12)\n",
    "    cll.display()"
   ],
   "id": "cf5125c3dcb4fa1d",
   "outputs": [
    {
     "name": "stdout",
     "output_type": "stream",
     "text": [
      "1->3->5->7->9->10->11->(back to end)\n",
      "1->3->5->7->9->10->11->12->(back to end)\n"
     ]
    }
   ],
   "execution_count": 13
  }
 ],
 "metadata": {
  "kernelspec": {
   "name": "python3",
   "language": "python",
   "display_name": "Python 3 (ipykernel)"
  }
 },
 "nbformat": 4,
 "nbformat_minor": 5
}
