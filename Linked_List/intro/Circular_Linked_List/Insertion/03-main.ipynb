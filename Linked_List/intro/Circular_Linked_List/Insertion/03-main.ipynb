{
 "cells": [
  {
   "metadata": {
    "ExecuteTime": {
     "end_time": "2025-08-31T07:44:53.523264Z",
     "start_time": "2025-08-31T07:44:53.516358Z"
    }
   },
   "cell_type": "code",
   "source": [
    "class Node:\n",
    "    def __init__(self, data):\n",
    "        self.data = data\n",
    "        self.next = None"
   ],
   "id": "9c8c5522827fc633",
   "outputs": [],
   "execution_count": 1
  },
  {
   "metadata": {
    "ExecuteTime": {
     "end_time": "2025-08-31T08:03:26.658918Z",
     "start_time": "2025-08-31T08:03:26.652322Z"
    }
   },
   "cell_type": "code",
   "source": [
    "class CircularLinkedList:\n",
    "    def __init__(self):\n",
    "        self.head = None\n",
    "\n",
    "    def display(self):\n",
    "        if self.head is None:\n",
    "            print(\"Linked List is Empty\")\n",
    "            return\n",
    "\n",
    "        itr = self.head\n",
    "        while True:\n",
    "            print(itr.data, end = \"=>\")\n",
    "            itr = itr.next\n",
    "            if itr == self.head:\n",
    "                print(\"(back to end)\")\n",
    "                return\n",
    "\n",
    "    def insertion_at_middle(self, target, data):\n",
    "        if self.head is None:\n",
    "            print(\"Linked List is Empty\")\n",
    "            return\n",
    "\n",
    "        itr = self.head\n",
    "        while True:\n",
    "            if itr.data == target:\n",
    "                new_node = Node(data)\n",
    "                new_node.next = itr.next\n",
    "                itr.next = new_node\n",
    "                return\n",
    "            itr = itr.next\n",
    "            if itr == self.head:\n",
    "                print(\"Target Not Found\")"
   ],
   "id": "c059bdf9b151bb02",
   "outputs": [],
   "execution_count": 5
  },
  {
   "metadata": {
    "ExecuteTime": {
     "end_time": "2025-08-31T08:03:29.537629Z",
     "start_time": "2025-08-31T08:03:29.530939Z"
    }
   },
   "cell_type": "code",
   "source": [
    "if __name__ == \"__main__\":\n",
    "    cll = CircularLinkedList()\n",
    "    node1 = Node(1)\n",
    "    node2 = Node(3)\n",
    "    node3 = Node(5)\n",
    "    node4 = Node(7)\n",
    "    node5 = Node(9)\n",
    "    node6 = Node(10)\n",
    "    node7 = Node(11)\n",
    "    cll.head = node1\n",
    "    node1.next = node2\n",
    "    node2.next = node3\n",
    "    node3.next = node4\n",
    "    node4.next = node5\n",
    "    node5.next = node6\n",
    "    node6.next = node7\n",
    "    node7.next = cll.head\n",
    "    cll.display()\n",
    "    cll.insertion_at_middle(5, 6)\n",
    "    cll.display()"
   ],
   "id": "760c64c262fa4330",
   "outputs": [
    {
     "name": "stdout",
     "output_type": "stream",
     "text": [
      "1=>3=>5=>7=>9=>10=>11=>(back to end)\n",
      "1=>3=>5=>6=>7=>9=>10=>11=>(back to end)\n"
     ]
    }
   ],
   "execution_count": 6
  }
 ],
 "metadata": {
  "kernelspec": {
   "name": "python3",
   "language": "python",
   "display_name": "Python 3 (ipykernel)"
  }
 },
 "nbformat": 4,
 "nbformat_minor": 5
}
