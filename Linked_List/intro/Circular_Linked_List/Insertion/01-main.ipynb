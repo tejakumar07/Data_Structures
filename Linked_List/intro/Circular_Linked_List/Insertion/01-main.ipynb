{
 "cells": [
  {
   "metadata": {
    "ExecuteTime": {
     "end_time": "2025-08-31T05:26:10.758125Z",
     "start_time": "2025-08-31T05:26:10.754241Z"
    }
   },
   "cell_type": "code",
   "source": [
    "class Node:\n",
    "    def __init__(self, data):\n",
    "        self.data = data\n",
    "        self.next = None"
   ],
   "id": "8748ebe06d784a6",
   "outputs": [],
   "execution_count": 7
  },
  {
   "metadata": {
    "ExecuteTime": {
     "end_time": "2025-08-31T05:26:13.113027Z",
     "start_time": "2025-08-31T05:26:13.108317Z"
    }
   },
   "cell_type": "code",
   "source": [
    "class CircularLinkedList:\n",
    "    def __init__(self):\n",
    "        self.head = None\n",
    "\n",
    "    def display(self):\n",
    "        if self.head is None:\n",
    "            print(\"Linked List is Empty\")\n",
    "            return\n",
    "\n",
    "        itr = self.head\n",
    "        while True:\n",
    "            print(itr.data, end = \"--->\")\n",
    "            itr = itr.next\n",
    "            if itr == self.head:\n",
    "                print(\"(back to head)\")\n",
    "                return\n",
    "\n",
    "    def insertion_at_beginning(self, data):\n",
    "        node = Node(data)\n",
    "        if self.head is None: # if the Linked List is Empty\n",
    "            self.head = node\n",
    "            node.next = self.head\n",
    "            return\n",
    "        # If the Linked List is Not Empty\n",
    "        last = self.head\n",
    "        while last.next != self.head:\n",
    "            last = last.next\n",
    "        node.next = self.head\n",
    "        last.next = node\n",
    "        self.head = node"
   ],
   "id": "dfc55e548060e7f3",
   "outputs": [],
   "execution_count": 8
  },
  {
   "metadata": {
    "ExecuteTime": {
     "end_time": "2025-08-31T05:26:15.929426Z",
     "start_time": "2025-08-31T05:26:15.924842Z"
    }
   },
   "cell_type": "code",
   "source": [
    "if __name__ == \"__main__\":\n",
    "    cll = CircularLinkedList()\n",
    "    node1 = Node(1)\n",
    "    node2 = Node(3)\n",
    "    node3 = Node(5)\n",
    "    node4 = Node(7)\n",
    "    node5 = Node(9)\n",
    "    node6 = Node(10)\n",
    "    node7 = Node(11)\n",
    "    cll.head = node1\n",
    "    node1.next = node2\n",
    "    node2.next = node3\n",
    "    node3.next = node4\n",
    "    node4.next = node5\n",
    "    node5.next = node6\n",
    "    node6.next = node7\n",
    "    node7.next = cll.head\n",
    "    cll.display()\n",
    "    cll.insertion_at_beginning(0)\n",
    "    cll.display()"
   ],
   "id": "870a4af4d782a2f6",
   "outputs": [
    {
     "name": "stdout",
     "output_type": "stream",
     "text": [
      "1--->3--->5--->7--->9--->10--->11--->(back to head)\n",
      "0--->1--->3--->5--->7--->9--->10--->11--->(back to head)\n"
     ]
    }
   ],
   "execution_count": 9
  }
 ],
 "metadata": {
  "kernelspec": {
   "name": "python3",
   "language": "python",
   "display_name": "Python 3 (ipykernel)"
  }
 },
 "nbformat": 4,
 "nbformat_minor": 5
}
