{
 "cells": [
  {
   "cell_type": "code",
   "execution_count": 1,
   "id": "34fb1a3c",
   "metadata": {},
   "outputs": [],
   "source": [
    "class Node:\n",
    "    def __init__(self, data):\n",
    "        self.data = data\n",
    "        self.next = None"
   ]
  },
  {
   "cell_type": "code",
   "execution_count": 3,
   "id": "9e91eb8c",
   "metadata": {},
   "outputs": [],
   "source": [
    "class LinkedList:\n",
    "    def __init__(self):\n",
    "        self.head = Node\n",
    "    \n",
    "    def printThing(self):\n",
    "        if self.head == None:\n",
    "            return \"Linked List is Empty\"\n",
    "        \n",
    "        itr = self.head\n",
    "        llstr = \"\"\n",
    "        \n",
    "        while itr:\n",
    "            llstr += str(itr.data) + \"----->\" if itr.next else str(itr.data)\n",
    "            itr = itr.next\n",
    "        return llstr\n",
    "    \n",
    "    def searchingElement(self, val):\n",
    "        if self.head == None:\n",
    "            return False\n",
    "        \n",
    "        itr = self.head\n",
    "        while itr:\n",
    "            if itr.data == val:\n",
    "                return True\n",
    "            itr = itr.next\n",
    "        return False\n",
    "    "
   ]
  },
  {
   "cell_type": "code",
   "execution_count": 8,
   "id": "49a99745",
   "metadata": {},
   "outputs": [
    {
     "name": "stdout",
     "output_type": "stream",
     "text": [
      "1----->2----->3----->4----->5----->6\n",
      "True\n"
     ]
    }
   ],
   "source": [
    "if __name__ == \"__main__\":\n",
    "    ll = LinkedList()\n",
    "    ll.head = Node(1)\n",
    "    ll.head.next = Node(2)\n",
    "    ll.head.next.next = Node(3)\n",
    "    ll.head.next.next.next = Node(4)\n",
    "    ll.head.next.next.next.next = Node(5)\n",
    "    ll.head.next.next.next.next.next = Node(6)\n",
    "    ans = ll.printThing()\n",
    "    print(ans)\n",
    "    result = ll.searchingElement(4)\n",
    "    print(result)"
   ]
  }
 ],
 "metadata": {
  "kernelspec": {
   "display_name": ".venv",
   "language": "python",
   "name": "python3"
  },
  "language_info": {
   "codemirror_mode": {
    "name": "ipython",
    "version": 3
   },
   "file_extension": ".py",
   "mimetype": "text/x-python",
   "name": "python",
   "nbconvert_exporter": "python",
   "pygments_lexer": "ipython3",
   "version": "3.13.7"
  }
 },
 "nbformat": 4,
 "nbformat_minor": 5
}
