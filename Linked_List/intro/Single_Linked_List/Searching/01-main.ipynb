{
 "cells": [
  {
   "cell_type": "code",
   "execution_count": 1,
   "id": "e32d2173",
   "metadata": {},
   "outputs": [],
   "source": [
    "class Node:\n",
    "    def __init__(self, data):\n",
    "        self.data = data\n",
    "        self.next = None"
   ]
  },
  {
   "cell_type": "code",
   "execution_count": 2,
   "id": "8b4e8d5a",
   "metadata": {},
   "outputs": [],
   "source": [
    "class LinkedList:\n",
    "    def __init__(self):\n",
    "        self.head = None\n",
    "    \n",
    "    def printThing(self):\n",
    "        if self.head == None:\n",
    "            return \"Linked List is Empty\"\n",
    "    \n",
    "        itr = self.head\n",
    "        llstr = \"\"\n",
    "        \n",
    "        while itr:\n",
    "            llstr += str(itr.data) + \"--->\" if itr.next else str(itr.data)\n",
    "            itr = itr.next\n",
    "        return llstr\n",
    "    \n",
    "    def searching(self, val):\n",
    "        itr = self.head\n",
    "        \n",
    "        while itr:\n",
    "            if itr.data == val:\n",
    "                return True\n",
    "            itr = itr.next\n",
    "        return False"
   ]
  },
  {
   "cell_type": "code",
   "execution_count": 3,
   "id": "210d1c40",
   "metadata": {},
   "outputs": [
    {
     "name": "stdout",
     "output_type": "stream",
     "text": [
      "1--->2--->3--->4--->5\n",
      "True\n"
     ]
    }
   ],
   "source": [
    "if __name__ == \"__main__\":\n",
    "    ll = LinkedList()\n",
    "    ll.head = Node(1)\n",
    "    ll.head.next = Node(2)\n",
    "    ll.head.next.next = Node(3)\n",
    "    ll.head.next.next.next = Node(4)\n",
    "    ll.head.next.next.next.next = Node(5)\n",
    "    print(ll.printThing())\n",
    "    print(ll.searching(2))"
   ]
  }
 ],
 "metadata": {
  "kernelspec": {
   "display_name": "Python 3",
   "language": "python",
   "name": "python3"
  },
  "language_info": {
   "codemirror_mode": {
    "name": "ipython",
    "version": 3
   },
   "file_extension": ".py",
   "mimetype": "text/x-python",
   "name": "python",
   "nbconvert_exporter": "python",
   "pygments_lexer": "ipython3",
   "version": "3.13.7"
  }
 },
 "nbformat": 4,
 "nbformat_minor": 5
}
