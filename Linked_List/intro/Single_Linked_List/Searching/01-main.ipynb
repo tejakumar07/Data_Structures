{
 "cells": [
  {
   "cell_type": "code",
   "execution_count": 1,
   "id": "8356f137",
   "metadata": {},
   "outputs": [],
   "source": [
    "class Node:\n",
    "    def __init__(self, data):\n",
    "        self.data = data\n",
    "        self.next = None"
   ]
  },
  {
   "cell_type": "code",
   "execution_count": 2,
   "id": "7b17e036",
   "metadata": {},
   "outputs": [],
   "source": [
    "class LinkedList:\n",
    "    def __init__(self):\n",
    "        self.head = None\n",
    "    \n",
    "    def printThing(self):\n",
    "        if self.head == None:\n",
    "            return \"Linked List is Empty\"\n",
    "        itr = self.head\n",
    "        llstr = \"\"\n",
    "        \n",
    "        while itr:\n",
    "            llstr += str(itr.data) + \"----->\" if itr.next else str(itr.data)\n",
    "            itr = itr.next\n",
    "        return llstr\n",
    "\n",
    "    def reverseLinkedList(self):\n",
    "        if self.head == None:\n",
    "            return \"Linked List is Empty\"\n",
    "        \n",
    "        prev = None\n",
    "        current = self.head\n",
    "        \n",
    "        while current:\n",
    "            next_node = current.next\n",
    "            current.next = prev\n",
    "            prev = current\n",
    "            current = next_node\n",
    "        self.head = prev"
   ]
  },
  {
   "cell_type": "code",
   "execution_count": 3,
   "id": "539f1c09",
   "metadata": {},
   "outputs": [
    {
     "name": "stdout",
     "output_type": "stream",
     "text": [
      "Orginal Linked List\n",
      "1----->2----->3----->4----->5----->6\n",
      "After Reversing the Linked List\n",
      "6----->5----->4----->3----->2----->1\n"
     ]
    }
   ],
   "source": [
    "if __name__ == \"__main__\":\n",
    "    ll = LinkedList()\n",
    "    ll.head = Node(1)\n",
    "    ll.head.next = Node(2)\n",
    "    ll.head.next.next = Node(3)\n",
    "    ll.head.next.next.next = Node(4)\n",
    "    ll.head.next.next.next.next = Node(5)\n",
    "    ll.head.next.next.next.next.next = Node(6)\n",
    "    print(\"Orginal Linked List\")\n",
    "    print(ll.printThing())\n",
    "    print(\"After Reversing the Linked List\")\n",
    "    ll.reverseLinkedList()\n",
    "    print(ll.printThing())"
   ]
  }
 ],
 "metadata": {
  "kernelspec": {
   "display_name": ".venv",
   "language": "python",
   "name": "python3"
  },
  "language_info": {
   "codemirror_mode": {
    "name": "ipython",
    "version": 3
   },
   "file_extension": ".py",
   "mimetype": "text/x-python",
   "name": "python",
   "nbconvert_exporter": "python",
   "pygments_lexer": "ipython3",
   "version": "3.13.7"
  }
 },
 "nbformat": 4,
 "nbformat_minor": 5
}
