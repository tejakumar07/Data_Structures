{
 "cells": [
  {
   "metadata": {},
   "cell_type": "code",
   "source": [
    "# Insertion at Beginning\n",
    "class Node:\n",
    "    def __init__(self, data):\n",
    "        self.prev = None\n",
    "        self.data = data\n",
    "        self.next = None"
   ],
   "id": "1c04359063d3bbd7",
   "outputs": [],
   "execution_count": null
  },
  {
   "metadata": {},
   "cell_type": "code",
   "source": [
    "class DoubleLinkedList:\n",
    "    def __init__(self):\n",
    "        self.head = None\n",
    "        self.tail = None\n",
    "\n",
    "    def display(self):\n",
    "        if self.head == None:\n",
    "            print(\"Linked List is Empty\")\n",
    "            return\n",
    "\n",
    "        itr1 = self.head\n",
    "        itr2 = self.tail\n",
    "        linkstr1 = \"\"\n",
    "        linkstr2 = \"\"\n",
    "        while itr1:\n",
    "            linkstr1 += str(itr1.data) + \"--->\" if itr1.next else str(itr1.data)\n",
    "            itr1 = itr1.next\n",
    "        while itr2:\n",
    "            linkstr2 += str(itr2.data) + \"--->\" if itr2.prev else str(itr2.data)\n",
    "            itr2 = itr2.prev\n",
    "\n",
    "        print(linkstr1)\n",
    "        print(linkstr2)\n",
    "\n",
    "    def insertion_at_beginning(self, data):\n",
    "        new_node = Node(data)\n",
    "        if self.head is None:\n",
    "            self.head = self.tail = new_node\n",
    "            return\n",
    "        new_node.next = self.head\n",
    "        self.head.prev = new_node\n",
    "        self.head = new_node"
   ],
   "id": "6b3e4a93207dd470",
   "outputs": [],
   "execution_count": null
  },
  {
   "metadata": {},
   "cell_type": "code",
   "source": [
    "if __name__ == \"__main__\":\n",
    "    dl = DoubleLinkedList()\n",
    "    node1 = Node(1)\n",
    "    node2 = Node(2)\n",
    "    node3 = Node(3)\n",
    "    node4 = Node(4)\n",
    "    node5 = Node(5)\n",
    "    dl.head = node1\n",
    "    dl.tail = node5\n",
    "    dl.head.next = node2\n",
    "    node2.prev = node1\n",
    "    node2.next = node3\n",
    "    node3.prev = node2\n",
    "    node3.next = node4\n",
    "    node4.prev = node3\n",
    "    node4.next = node5\n",
    "    node5.prev = node4\n",
    "    dl.display()\n",
    "    dl.insertion_at_beginning(0)\n",
    "    print(\"After Inserting\")\n",
    "    dl.display()"
   ],
   "id": "b495e79513f22cd1",
   "outputs": [],
   "execution_count": null
  }
 ],
 "metadata": {
  "kernelspec": {
   "name": "python3",
   "language": "python",
   "display_name": "Python 3 (ipykernel)"
  }
 },
 "nbformat": 4,
 "nbformat_minor": 5
}
