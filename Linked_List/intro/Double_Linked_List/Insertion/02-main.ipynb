{
 "cells": [
  {
   "metadata": {
    "ExecuteTime": {
     "end_time": "2025-08-29T13:07:47.007533Z",
     "start_time": "2025-08-29T13:07:46.999330Z"
    }
   },
   "cell_type": "code",
   "source": [
    "# Insertion At the End\n",
    "class Node:\n",
    "    def __init__(self, data):\n",
    "        self.prev = None\n",
    "        self.data = data\n",
    "        self.next = None"
   ],
   "id": "42207c01e5a9f9e9",
   "outputs": [],
   "execution_count": 1
  },
  {
   "metadata": {
    "ExecuteTime": {
     "end_time": "2025-08-29T13:13:16.215294Z",
     "start_time": "2025-08-29T13:13:16.210318Z"
    }
   },
   "cell_type": "code",
   "source": [
    "class DoubleLinkedList:\n",
    "    def __init__(self):\n",
    "        self.head = None\n",
    "        self.tail = None\n",
    "\n",
    "    def display(self):\n",
    "        if self.head == None:\n",
    "            print(\"Linked List is Empty\")\n",
    "            return\n",
    "\n",
    "        itr1 = self.head\n",
    "        itr2 = self.tail\n",
    "        linkstr1 = \"\"\n",
    "        linkstr2 = \"\"\n",
    "        while itr1:\n",
    "            linkstr1 += str(itr1.data) + \"--->\" if itr1.next else str(itr1.data)\n",
    "            itr1 = itr1.next\n",
    "        while itr2:\n",
    "            linkstr2 += str(itr2.data) + \"--->\" if itr2.prev else str(itr2.data)\n",
    "            itr2 = itr2.prev\n",
    "\n",
    "        print(linkstr1)\n",
    "        print(linkstr2)\n",
    "\n",
    "    def insertion_at_end(self, data):\n",
    "        new_node = Node(data)\n",
    "\n",
    "        if self.tail == None:\n",
    "            self.head = self.tail = new_node\n",
    "            return\n",
    "\n",
    "        self.tail.next = new_node\n",
    "        new_node.prev = self.tail\n",
    "        self.tail = new_node"
   ],
   "id": "dd55ecf540bdc7a4",
   "outputs": [],
   "execution_count": 5
  },
  {
   "metadata": {
    "ExecuteTime": {
     "end_time": "2025-08-29T13:13:47.795737Z",
     "start_time": "2025-08-29T13:13:47.790287Z"
    }
   },
   "cell_type": "code",
   "source": [
    "if __name__ == \"__main__\":\n",
    "    dl = DoubleLinkedList()\n",
    "    node1 = Node(1)\n",
    "    node2 = Node(2)\n",
    "    node3 = Node(3)\n",
    "    node4 = Node(4)\n",
    "    node5 = Node(5)\n",
    "    dl.head = node1\n",
    "    dl.tail = node5\n",
    "    dl.head.next = node2\n",
    "    node2.prev = node1\n",
    "    node2.next = node3\n",
    "    node3.prev = node2\n",
    "    node3.next = node4\n",
    "    node4.prev = node3\n",
    "    node4.next = node5\n",
    "    node5.prev = node4\n",
    "    dl.display()\n",
    "    dl.insertion_at_end(6)\n",
    "    print(\"After Inserting\")\n",
    "    dl.display()"
   ],
   "id": "258b309e31cea754",
   "outputs": [
    {
     "name": "stdout",
     "output_type": "stream",
     "text": [
      "1--->2--->3--->4--->5\n",
      "5--->4--->3--->2--->1\n",
      "After Inserting\n",
      "1--->2--->3--->4--->5--->6\n",
      "6--->5--->4--->3--->2--->1\n"
     ]
    }
   ],
   "execution_count": 7
  }
 ],
 "metadata": {
  "kernelspec": {
   "name": "python3",
   "language": "python",
   "display_name": "Python 3 (ipykernel)"
  }
 },
 "nbformat": 4,
 "nbformat_minor": 5
}
