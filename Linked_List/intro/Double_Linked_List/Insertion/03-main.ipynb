{
 "cells": [
  {
   "metadata": {
    "ExecuteTime": {
     "end_time": "2025-08-30T06:13:27.367970Z",
     "start_time": "2025-08-30T06:13:27.360076Z"
    }
   },
   "cell_type": "code",
   "source": [
    "# Insertion at the Middle\n",
    "class Node:\n",
    "    def __init__(self, data):\n",
    "        self.prev = None\n",
    "        self.data = data\n",
    "        self.next = None"
   ],
   "id": "4cbcc5dd3d39561",
   "outputs": [],
   "execution_count": 1
  },
  {
   "metadata": {
    "ExecuteTime": {
     "end_time": "2025-08-30T06:13:28.658032Z",
     "start_time": "2025-08-30T06:13:28.650661Z"
    }
   },
   "cell_type": "code",
   "source": [
    "class DoubleLinkedList:\n",
    "    def __init__(self):\n",
    "        self.head = None\n",
    "        self.tail = None\n",
    "\n",
    "    def display(self):\n",
    "        if self.head is None:\n",
    "            print(\"Linked List is Empty\")\n",
    "            return\n",
    "\n",
    "        itr1 = self.head\n",
    "        itr2 = self.tail\n",
    "        string1 = \"\"\n",
    "        string2 = \"\"\n",
    "\n",
    "        while itr1:\n",
    "            string1 += str(itr1.data) + \"--->\" if itr1.next else str(itr1.data)\n",
    "            itr1 = itr1.next\n",
    "\n",
    "        while itr2:\n",
    "            string2 += str(itr2.data) + \"<---\" if itr2.prev else str(itr2.data)\n",
    "            itr2 = itr2.prev\n",
    "\n",
    "        print(string1)\n",
    "        print(string2)\n",
    "\n",
    "    def insertion_at_middle(self, indx, data):\n",
    "        if indx == 0:\n",
    "            new_node = Node(data)\n",
    "            new_node.next = self.head\n",
    "            if self.head:\n",
    "                self.head.prev = new_node\n",
    "            else:\n",
    "                self.tail = new_node\n",
    "            self.head = new_node\n",
    "            return\n",
    "\n",
    "        itr = self.head\n",
    "        count = 0\n",
    "        new_node = Node(data)\n",
    "\n",
    "        while itr:\n",
    "            if count == indx - 1:\n",
    "                new_node.prev = itr\n",
    "                new_node.next = itr.next\n",
    "\n",
    "                if itr.next:\n",
    "                    itr.next.prev = new_node\n",
    "                else:\n",
    "                    self.tail = new_node\n",
    "\n",
    "                itr.next = new_node\n",
    "                return\n",
    "\n",
    "            itr = itr.next\n",
    "            count += 1"
   ],
   "id": "9569cb0fbee5718d",
   "outputs": [],
   "execution_count": 2
  },
  {
   "metadata": {
    "ExecuteTime": {
     "end_time": "2025-08-30T06:13:29.155069Z",
     "start_time": "2025-08-30T06:13:29.147526Z"
    }
   },
   "cell_type": "code",
   "source": [
    "if __name__ == \"__main__\":\n",
    "    dl = DoubleLinkedList()\n",
    "    node1 = Node(1)\n",
    "    node2 = Node(2)\n",
    "    node3 = Node(3)\n",
    "    node4 = Node(4)\n",
    "    node5 = Node(5)\n",
    "    dl.head = node1\n",
    "    dl.tail = node5\n",
    "    dl.head.next = node2\n",
    "    node2.prev = node1\n",
    "    node2.next = node3\n",
    "    node3.prev = node2\n",
    "    node3.next = node4\n",
    "    node4.prev = node3\n",
    "    node4.next = node5\n",
    "    node5.prev = node4\n",
    "    dl.display()\n",
    "    dl.insertion_at_middle(5, 6)\n",
    "    dl.display()"
   ],
   "id": "dbb85dcc6c83a59a",
   "outputs": [
    {
     "name": "stdout",
     "output_type": "stream",
     "text": [
      "1--->2--->3--->4--->5\n",
      "5<---4<---3<---2<---1\n",
      "1--->2--->3--->4--->5--->6\n",
      "6<---5<---4<---3<---2<---1\n"
     ]
    }
   ],
   "execution_count": 3
  },
  {
   "metadata": {},
   "cell_type": "code",
   "outputs": [],
   "execution_count": null,
   "source": "",
   "id": "979a8566b7aeb839"
  }
 ],
 "metadata": {
  "kernelspec": {
   "name": "python3",
   "language": "python",
   "display_name": "Python 3 (ipykernel)"
  }
 },
 "nbformat": 4,
 "nbformat_minor": 5
}
