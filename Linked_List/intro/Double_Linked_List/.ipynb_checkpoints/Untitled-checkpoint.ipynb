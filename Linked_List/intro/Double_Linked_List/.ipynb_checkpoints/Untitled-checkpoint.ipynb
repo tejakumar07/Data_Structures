{
 "cells": [
  {
   "cell_type": "code",
   "execution_count": 1,
   "id": "e8ead219-0f0b-4f39-a703-5576f693a152",
   "metadata": {},
   "outputs": [
    {
     "name": "stdout",
     "output_type": "stream",
     "text": [
      "Hello, WOrld\n"
     ]
    }
   ],
   "source": [
    "print(\"Hello, WOrld\")"
   ]
  }
 ],
 "metadata": {
  "kernelspec": {
   "display_name": "Python 3 (ipykernel)",
   "language": "python",
   "name": "python3"
  },
  "language_info": {
   "codemirror_mode": {
    "name": "ipython",
    "version": 3
   },
   "file_extension": ".py",
   "mimetype": "text/x-python",
   "name": "python",
   "nbconvert_exporter": "python",
   "pygments_lexer": "ipython3",
   "version": "3.13.7"
  }
 },
 "nbformat": 4,
 "nbformat_minor": 5
}
