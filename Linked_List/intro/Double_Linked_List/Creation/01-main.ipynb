{
 "cells": [
  {
   "cell_type": "code",
   "id": "00baf9dd",
   "metadata": {
    "jupyter": {
     "is_executing": true
    }
   },
   "source": [
    "class Node:\n",
    "    def __init__(self, data):\n",
    "        self.prev = None\n",
    "        self.data = data\n",
    "        self.next = None"
   ],
   "outputs": [],
   "execution_count": null
  },
  {
   "cell_type": "code",
   "execution_count": 2,
   "id": "f4039453",
   "metadata": {},
   "outputs": [],
   "source": [
    "class DoubleLinkedList:\n",
    "    def __init__(self):\n",
    "        self.head = None\n",
    "        self.tail = None\n",
    "    \n",
    "    def printThing(self):\n",
    "        if self.head == None:\n",
    "            return \"Linked List is Empty\"\n",
    "        \n",
    "        itr1 = self.head\n",
    "        itr2 = self.tail\n",
    "        llstr1 = \"\"\n",
    "        llstr2 = \"\"\n",
    "        \n",
    "        while itr1:\n",
    "            llstr1 += str(itr1.data) + \"--->\" if itr1.next else str(itr1.data)\n",
    "            itr1 = itr1.next \n",
    "        while itr2:\n",
    "            llstr2 += str(itr2.data) + \"<---\" if itr2.prev else str(itr2.data)\n",
    "            itr2 = itr2.prev\n",
    "        \n",
    "        print(llstr1)\n",
    "        print(llstr2) "
   ]
  },
  {
   "cell_type": "code",
   "execution_count": 4,
   "id": "a0ce7a05",
   "metadata": {},
   "outputs": [
    {
     "name": "stdout",
     "output_type": "stream",
     "text": [
      "1--->3--->5--->7--->9\n",
      "9<---7<---5<---3<---1\n"
     ]
    }
   ],
   "source": [
    "if __name__ == \"__main__\":\n",
    "    dl = DoubleLinkedList()\n",
    "    node1 = Node(1)\n",
    "    node2 = Node(3)\n",
    "    node3 = Node(5)\n",
    "    node4 = Node(7)\n",
    "    node5 = Node(9)\n",
    "    dl.head = node1\n",
    "    dl.tail = node5\n",
    "    node1.next = node2\n",
    "    node2.prev = node1\n",
    "    node2.next = node3\n",
    "    node3.prev = node2\n",
    "    node3.next = node4\n",
    "    node4.prev = node3\n",
    "    node4.next = node5\n",
    "    node5.prev = node4\n",
    "    dl.printThing()"
   ]
  }
 ],
 "metadata": {
  "kernelspec": {
   "display_name": "Python 3",
   "language": "python",
   "name": "python3"
  },
  "language_info": {
   "codemirror_mode": {
    "name": "ipython",
    "version": 3
   },
   "file_extension": ".py",
   "mimetype": "text/x-python",
   "name": "python",
   "nbconvert_exporter": "python",
   "pygments_lexer": "ipython3",
   "version": "3.13.7"
  }
 },
 "nbformat": 4,
 "nbformat_minor": 5
}
