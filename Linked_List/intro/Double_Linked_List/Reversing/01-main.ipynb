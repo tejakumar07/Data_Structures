{
 "cells": [
  {
   "metadata": {
    "ExecuteTime": {
     "end_time": "2025-08-30T10:47:20.136894Z",
     "start_time": "2025-08-30T10:47:20.114297Z"
    }
   },
   "cell_type": "code",
   "source": [
    "class Node:\n",
    "    def __init__(self, data):\n",
    "        self.prev = None\n",
    "        self.data = data\n",
    "        self.next = None"
   ],
   "id": "6b1bae0e64d7bd55",
   "outputs": [],
   "execution_count": 1
  },
  {
   "metadata": {
    "ExecuteTime": {
     "end_time": "2025-08-30T10:51:57.410231Z",
     "start_time": "2025-08-30T10:51:57.402456Z"
    }
   },
   "cell_type": "code",
   "source": [
    "class DoubleLinkedList:\n",
    "    def __init__(self):\n",
    "        self.head = None\n",
    "        self.tail = None\n",
    "\n",
    "    def display(self):\n",
    "        itr = self.head\n",
    "        if itr is None:\n",
    "            print(\"Linked List is Empty\")\n",
    "            return\n",
    "\n",
    "        while itr:\n",
    "            print(itr.data, end = \"<=>\")\n",
    "            itr = itr.next\n",
    "        print(\"None\")\n",
    "\n",
    "    def reverse(self):\n",
    "        current = self.head\n",
    "        if current is None:\n",
    "            print(\"Linked List is Empty\")\n",
    "            return\n",
    "\n",
    "        temp = None\n",
    "        while current:\n",
    "            temp = current.prev\n",
    "            current.prev = current.next\n",
    "            current.next = temp\n",
    "            current = current.prev\n",
    "\n",
    "        if temp:\n",
    "            self.head = temp.prev"
   ],
   "id": "1ca7d6919f36b906",
   "outputs": [],
   "execution_count": 2
  },
  {
   "metadata": {
    "ExecuteTime": {
     "end_time": "2025-08-30T10:52:36.563810Z",
     "start_time": "2025-08-30T10:52:36.540439Z"
    }
   },
   "cell_type": "code",
   "source": [
    "if __name__ == \"__main__\":\n",
    "    dl = DoubleLinkedList()\n",
    "    node1 = Node(1)\n",
    "    node2 = Node(2)\n",
    "    node3 = Node(3)\n",
    "    node4 = Node(4)\n",
    "    node5 = Node(5)\n",
    "    dl.head = node1\n",
    "    dl.tail = node5\n",
    "    dl.head.next = node2\n",
    "    node2.prev = node1\n",
    "    node2.next = node3\n",
    "    node3.prev = node2\n",
    "    node3.next = node4\n",
    "    node4.prev = node3\n",
    "    node4.next = node5\n",
    "    node5.prev = node4\n",
    "    dl.display()\n",
    "    dl.reverse()\n",
    "    dl.display()"
   ],
   "id": "c8f13c9c1c4ac3f",
   "outputs": [
    {
     "name": "stdout",
     "output_type": "stream",
     "text": [
      "1<=>2<=>3<=>4<=>5<=>None\n",
      "5<=>4<=>3<=>2<=>1<=>None\n"
     ]
    }
   ],
   "execution_count": 4
  }
 ],
 "metadata": {
  "kernelspec": {
   "name": "python3",
   "language": "python",
   "display_name": "Python 3 (ipykernel)"
  }
 },
 "nbformat": 4,
 "nbformat_minor": 5
}
