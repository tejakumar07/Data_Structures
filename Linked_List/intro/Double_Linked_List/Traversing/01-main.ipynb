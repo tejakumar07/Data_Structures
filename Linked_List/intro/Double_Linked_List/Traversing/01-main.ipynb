{
 "cells": [
  {
   "metadata": {
    "ExecuteTime": {
     "end_time": "2025-08-30T06:32:25.840482Z",
     "start_time": "2025-08-30T06:32:25.832247Z"
    }
   },
   "cell_type": "code",
   "source": [
    "class Node:\n",
    "    def __init__(self, data):\n",
    "        self.prev = None\n",
    "        self.data = data\n",
    "        self.next = None"
   ],
   "id": "fc72bb1af01f79a3",
   "outputs": [],
   "execution_count": 1
  },
  {
   "metadata": {
    "ExecuteTime": {
     "end_time": "2025-08-30T06:32:27.912702Z",
     "start_time": "2025-08-30T06:32:27.907291Z"
    }
   },
   "cell_type": "code",
   "source": [
    "class DoubleLinkedList:\n",
    "    def __init__(self):\n",
    "        self.head = None\n",
    "        self.tail = None\n",
    "\n",
    "    def traversing(self):\n",
    "        itr = self.head\n",
    "\n",
    "        while itr:\n",
    "            print(itr.data, end = \"<--->\")\n",
    "            itr = itr.next\n",
    "        print(\"None\")\n"
   ],
   "id": "3b8c3d4f7d5d2566",
   "outputs": [],
   "execution_count": 2
  },
  {
   "metadata": {
    "ExecuteTime": {
     "end_time": "2025-08-30T06:32:30.099615Z",
     "start_time": "2025-08-30T06:32:30.092482Z"
    }
   },
   "cell_type": "code",
   "source": [
    "if __name__ == \"__main__\":\n",
    "    dl = DoubleLinkedList()\n",
    "    node1 = Node(1)\n",
    "    node2 = Node(2)\n",
    "    node3 = Node(3)\n",
    "    node4 = Node(4)\n",
    "    node5 = Node(5)\n",
    "    dl.head = node1\n",
    "    dl.tail = node5\n",
    "    node1.next = node2\n",
    "    node2.prev = node1\n",
    "    node2.next = node3\n",
    "    node3.prev = node2\n",
    "    node3.next = node4\n",
    "    node4.prev = node3\n",
    "    node4.next = node5\n",
    "    node5.prev = node4\n",
    "    dl.traversing()"
   ],
   "id": "dd1f1a934ee11460",
   "outputs": [
    {
     "name": "stdout",
     "output_type": "stream",
     "text": [
      "1<--->2<--->3<--->4<--->5<--->None\n"
     ]
    }
   ],
   "execution_count": 3
  }
 ],
 "metadata": {
  "kernelspec": {
   "name": "python3",
   "language": "python",
   "display_name": "Python 3 (ipykernel)"
  }
 },
 "nbformat": 4,
 "nbformat_minor": 5
}
