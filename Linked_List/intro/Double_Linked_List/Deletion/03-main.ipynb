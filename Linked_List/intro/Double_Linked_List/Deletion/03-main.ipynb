{
 "cells": [
  {
   "metadata": {
    "ExecuteTime": {
     "end_time": "2025-08-30T09:42:51.126755Z",
     "start_time": "2025-08-30T09:42:51.122238Z"
    }
   },
   "cell_type": "code",
   "source": [
    "class Node:\n",
    "    def __init__(self, data):\n",
    "        self.prev = None\n",
    "        self.data = data\n",
    "        self.next = None"
   ],
   "id": "f73b75a1f91fc86c",
   "outputs": [],
   "execution_count": 1
  },
  {
   "metadata": {
    "ExecuteTime": {
     "end_time": "2025-08-30T10:33:05.876892Z",
     "start_time": "2025-08-30T10:33:05.841174Z"
    }
   },
   "cell_type": "code",
   "source": [
    "class DoubleLinkedList:\n",
    "    def __init__(self):\n",
    "        self.head = None\n",
    "        self.tail = None\n",
    "\n",
    "    def display(self):\n",
    "        itr = self.head\n",
    "\n",
    "        while itr:\n",
    "            print(itr.data, end = \"<--->\")\n",
    "            itr = itr.next\n",
    "        print(\"None\")\n",
    "\n",
    "    def deletion(self, indx):\n",
    "        if self.head is None:\n",
    "            print(\"Linked List is Empty\")\n",
    "            return\n",
    "\n",
    "        if indx == 0:\n",
    "            if self.head == self.tail: # Only One Element\n",
    "                self.head = self.tail = None\n",
    "                return\n",
    "            else:\n",
    "                self.head = self.head.next # If it contain more than one element\n",
    "                self.head.prev = None\n",
    "            return\n",
    "\n",
    "        # For Middle Elements\n",
    "\n",
    "        count = 0\n",
    "        itr = self.head\n",
    "\n",
    "        while itr:\n",
    "            if count == indx:\n",
    "                if itr == self.tail: # Last Element\n",
    "                    self.tail = itr.prev\n",
    "                    itr.next = None\n",
    "                    return\n",
    "                else:\n",
    "                    itr.prev.next = itr.next\n",
    "                    itr.next.prev = itr.prev\n",
    "                    return\n",
    "            count += 1\n",
    "            itr = itr.next\n"
   ],
   "id": "9bfbddc446c6c7f1",
   "outputs": [],
   "execution_count": 2
  },
  {
   "metadata": {
    "ExecuteTime": {
     "end_time": "2025-08-30T10:36:09.931664Z",
     "start_time": "2025-08-30T10:36:09.925760Z"
    }
   },
   "cell_type": "code",
   "source": [
    "if __name__ == \"__main__\":\n",
    "    dl = DoubleLinkedList()\n",
    "    node1 = Node(1)\n",
    "    node2 = Node(3)\n",
    "    node3 = Node(5)\n",
    "    node4 = Node(7)\n",
    "    node5 = Node(9)\n",
    "    node6 = Node(10)\n",
    "    node7 = Node(11)\n",
    "    node8 = Node(13)\n",
    "    node9 = Node(15)\n",
    "    dl.head = node1\n",
    "    dl.tail = node5\n",
    "    node1.next = node2\n",
    "    node2.prev = node1\n",
    "    node2.next = node3\n",
    "    node3.prev = node2\n",
    "    node3.next = node4\n",
    "    node4.prev = node3\n",
    "    node4.next = node5\n",
    "    node5.prev = node4\n",
    "    node5.next = node6\n",
    "    node6.prev = node5\n",
    "    node6.next = node7\n",
    "    node7.prev = node6\n",
    "    node7.next = node8\n",
    "    node8.prev = node7\n",
    "    node8.next = node9\n",
    "    node9.prev = node8\n",
    "    dl.display()\n",
    "    dl.deletion(5)\n",
    "    dl.display()\n"
   ],
   "id": "756a8ea1fc29555b",
   "outputs": [
    {
     "name": "stdout",
     "output_type": "stream",
     "text": [
      "1<--->3<--->5<--->7<--->9<--->10<--->11<--->13<--->15<--->None\n",
      "1<--->3<--->5<--->7<--->9<--->11<--->13<--->15<--->None\n"
     ]
    }
   ],
   "execution_count": 5
  }
 ],
 "metadata": {
  "kernelspec": {
   "name": "python3",
   "language": "python",
   "display_name": "Python 3 (ipykernel)"
  }
 },
 "nbformat": 4,
 "nbformat_minor": 5
}
