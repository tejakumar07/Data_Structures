{
 "cells": [
  {
   "metadata": {
    "ExecuteTime": {
     "end_time": "2025-08-30T09:21:19.985854Z",
     "start_time": "2025-08-30T09:21:19.981119Z"
    }
   },
   "cell_type": "code",
   "source": [
    "# Delete at Starting\n",
    "class Node:\n",
    "    def __init__(self, data):\n",
    "        self.prev = None\n",
    "        self.data = data\n",
    "        self.next = None"
   ],
   "id": "a0a0f290d5feca94",
   "outputs": [],
   "execution_count": 1
  },
  {
   "metadata": {
    "ExecuteTime": {
     "end_time": "2025-08-30T09:21:22.072737Z",
     "start_time": "2025-08-30T09:21:22.068325Z"
    }
   },
   "cell_type": "code",
   "source": [
    "class DoubleLinkedList:\n",
    "    def __init__(self):\n",
    "        self.head = None\n",
    "        self.tail = None\n",
    "\n",
    "    def display(self):\n",
    "        itr = self.head\n",
    "\n",
    "        while itr:\n",
    "            print(itr.data, end = \"<-->\")\n",
    "            itr = itr.next\n",
    "        print(\"None\")\n",
    "\n",
    "    def delete_at_beginning(self):\n",
    "        if self.head is None:\n",
    "            print(\"Linked List is Empty\")\n",
    "            return\n",
    "\n",
    "        if self.head == self.tail:\n",
    "            self.head = self.tail = None\n",
    "\n",
    "        else:\n",
    "            self.head = self.head.next\n",
    "            self.head.prev = None"
   ],
   "id": "82d00112fdb7f496",
   "outputs": [],
   "execution_count": 2
  },
  {
   "metadata": {
    "ExecuteTime": {
     "end_time": "2025-08-30T09:21:24.627981Z",
     "start_time": "2025-08-30T09:21:24.616555Z"
    }
   },
   "cell_type": "code",
   "source": [
    "if __name__ == \"__main__\":\n",
    "    dl = DoubleLinkedList()\n",
    "    node1 = Node(1)\n",
    "    node2 = Node(3)\n",
    "    node3 = Node(5)\n",
    "    node4 = Node(7)\n",
    "    node5 = Node(9)\n",
    "    dl.head = node1\n",
    "    dl.tail = node5\n",
    "    node1.next = node2\n",
    "    node2.prev = node1\n",
    "    node2.next = node3\n",
    "    node3.prev = node2\n",
    "    node3.next = node4\n",
    "    node4.prev = node3\n",
    "    node4.next = node5\n",
    "    node5.prev = node4\n",
    "    dl.display()\n",
    "    dl.delete_at_beginning()\n",
    "    dl.display()"
   ],
   "id": "53934f5946e81b51",
   "outputs": [
    {
     "name": "stdout",
     "output_type": "stream",
     "text": [
      "1<-->3<-->5<-->7<-->9<-->None\n",
      "3<-->5<-->7<-->9<-->None\n"
     ]
    }
   ],
   "execution_count": 3
  }
 ],
 "metadata": {
  "kernelspec": {
   "name": "python3",
   "language": "python",
   "display_name": "Python 3 (ipykernel)"
  }
 },
 "nbformat": 4,
 "nbformat_minor": 5
}
