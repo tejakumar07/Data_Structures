{
 "cells": [
  {
   "metadata": {
    "ExecuteTime": {
     "end_time": "2025-08-30T09:32:38.716985Z",
     "start_time": "2025-08-30T09:32:38.711693Z"
    }
   },
   "cell_type": "code",
   "source": [
    "class Node:\n",
    "    def __init__(self, data):\n",
    "        self.prev = None\n",
    "        self.data = data\n",
    "        self.next = None"
   ],
   "id": "8e632488e6c44874",
   "outputs": [],
   "execution_count": 1
  },
  {
   "metadata": {
    "ExecuteTime": {
     "end_time": "2025-08-30T09:41:08.555313Z",
     "start_time": "2025-08-30T09:41:08.547031Z"
    }
   },
   "cell_type": "code",
   "source": [
    "class DoubleLinkedList:\n",
    "    def __init__(self):\n",
    "        self.head = None\n",
    "        self.tail = None\n",
    "\n",
    "    def display(self):\n",
    "        itr = self.head\n",
    "\n",
    "        while itr:\n",
    "            print(itr.data, end = \"<--->\")\n",
    "            itr = itr.next\n",
    "        print(\"None\")\n",
    "\n",
    "    def deletion_at_end(self):\n",
    "        if self.head is None:\n",
    "            print(\"Linked List is Empty\")\n",
    "            return\n",
    "\n",
    "        if self.head == self.tail:\n",
    "            self.head = self.tail = None\n",
    "            return\n",
    "\n",
    "        self.tail = self.tail.prev\n",
    "        self.tail.next = None"
   ],
   "id": "7249999b19dec793",
   "outputs": [],
   "execution_count": 2
  },
  {
   "metadata": {
    "ExecuteTime": {
     "end_time": "2025-08-30T09:41:57.222983Z",
     "start_time": "2025-08-30T09:41:57.218156Z"
    }
   },
   "cell_type": "code",
   "source": [
    "if __name__ == \"__main__\":\n",
    "    dl = DoubleLinkedList()\n",
    "    node1 = Node(1)\n",
    "    node2 = Node(3)\n",
    "    node3 = Node(5)\n",
    "    node4 = Node(7)\n",
    "    node5 = Node(9)\n",
    "    dl.head = node1\n",
    "    dl.tail = node5\n",
    "    node1.next = node2\n",
    "    node2.prev = node1\n",
    "    node2.next = node3\n",
    "    node3.prev = node2\n",
    "    node3.next = node4\n",
    "    node4.prev = node3\n",
    "    node4.next = node5\n",
    "    node5.prev = node4\n",
    "    dl.display()\n",
    "    dl.deletion_at_end()\n",
    "    dl.display()"
   ],
   "id": "e38bfe0ab6fe70d5",
   "outputs": [
    {
     "name": "stdout",
     "output_type": "stream",
     "text": [
      "1<--->3<--->5<--->7<--->9<--->None\n",
      "1<--->3<--->5<--->7<--->None\n"
     ]
    }
   ],
   "execution_count": 3
  }
 ],
 "metadata": {
  "kernelspec": {
   "name": "python3",
   "language": "python",
   "display_name": "Python 3 (ipykernel)"
  }
 },
 "nbformat": 4,
 "nbformat_minor": 5
}
