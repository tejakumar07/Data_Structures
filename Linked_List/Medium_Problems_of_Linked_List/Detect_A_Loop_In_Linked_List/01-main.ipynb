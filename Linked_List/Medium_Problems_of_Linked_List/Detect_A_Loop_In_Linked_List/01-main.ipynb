{
 "cells": [
  {
   "metadata": {
    "ExecuteTime": {
     "end_time": "2025-09-03T11:38:52.315483Z",
     "start_time": "2025-09-03T11:38:52.312254Z"
    }
   },
   "cell_type": "code",
   "source": [
    "# Brute Force App\n",
    "class Node:\n",
    "    def __init__(self, data):\n",
    "        self.data = data\n",
    "        self.next = None"
   ],
   "id": "8f39a62a42d4a91e",
   "outputs": [],
   "execution_count": 13
  },
  {
   "metadata": {
    "ExecuteTime": {
     "end_time": "2025-09-03T11:40:09.183981Z",
     "start_time": "2025-09-03T11:40:09.178636Z"
    }
   },
   "cell_type": "code",
   "source": [
    "class LinkedList:\n",
    "    def __init__(self):\n",
    "        self.head = None\n",
    "\n",
    "    def display(self):\n",
    "        if self.head is None:\n",
    "            print(\"Linked List is Empty\");\n",
    "            return\n",
    "\n",
    "        itr = self.head\n",
    "        count = 0\n",
    "        while itr and count < 10:\n",
    "            print(itr.data, end = \"--->\")\n",
    "            itr = itr.next\n",
    "            count += 1\n",
    "        print(\"None\")\n",
    "\n",
    "    def detect_loop(self):\n",
    "        temp = self.head\n",
    "        node_set = set()\n",
    "\n",
    "        while temp is not None:\n",
    "            if temp in node_set:\n",
    "                return True\n",
    "            node_set.add(temp)\n",
    "            temp = temp.next\n",
    "        return False"
   ],
   "id": "83642d644f5f3b0d",
   "outputs": [],
   "execution_count": 16
  },
  {
   "metadata": {
    "ExecuteTime": {
     "end_time": "2025-09-03T11:40:12.937624Z",
     "start_time": "2025-09-03T11:40:12.932545Z"
    }
   },
   "cell_type": "code",
   "source": [
    "if __name__ ==\"__main__\":\n",
    "    ll = LinkedList();\n",
    "    ll.head = Node(1);\n",
    "    ll.head.next = Node(2);\n",
    "    ll.head.next.next = Node(3);\n",
    "    ll.head.next.next.next = Node(4)\n",
    "    ll.head.next.next.next.next = Node(5)\n",
    "    ll.head.next.next.next.next.next = Node(6)\n",
    "    ll.head.next.next.next.next.next.next = Node(7)\n",
    "    ll.head.next.next.next.next.next.next.next = Node(8)\n",
    "    ll.head.next.next.next.next.next.next.next.next = ll.head.next.next\n",
    "    ll.display()\n",
    "    ans = ll.detect_loop()\n",
    "    print(ans)"
   ],
   "id": "6821e8dee5fa8e24",
   "outputs": [
    {
     "name": "stdout",
     "output_type": "stream",
     "text": [
      "1--->2--->3--->4--->5--->6--->7--->8--->3--->4--->None\n",
      "True\n"
     ]
    }
   ],
   "execution_count": 17
  }
 ],
 "metadata": {
  "kernelspec": {
   "name": "python3",
   "language": "python",
   "display_name": "Python 3 (ipykernel)"
  }
 },
 "nbformat": 4,
 "nbformat_minor": 5
}
