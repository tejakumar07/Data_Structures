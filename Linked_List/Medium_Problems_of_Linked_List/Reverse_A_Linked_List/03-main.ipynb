{
 "cells": [
  {
   "metadata": {
    "ExecuteTime": {
     "end_time": "2025-09-02T04:49:36.437380Z",
     "start_time": "2025-09-02T04:49:36.427901Z"
    }
   },
   "cell_type": "code",
   "source": [
    "# Optimal Approach\n",
    "# using recursion"
   ],
   "id": "6efb719fb5d3bf21",
   "outputs": [],
   "execution_count": 1
  },
  {
   "metadata": {
    "ExecuteTime": {
     "end_time": "2025-09-02T05:30:46.458533Z",
     "start_time": "2025-09-02T05:30:46.449638Z"
    }
   },
   "cell_type": "code",
   "source": [
    "class Node:\n",
    "    def __init__(self, data):\n",
    "        self.data = data\n",
    "        self.next = None"
   ],
   "id": "581d72ae7d7e3477",
   "outputs": [],
   "execution_count": 13
  },
  {
   "metadata": {
    "ExecuteTime": {
     "end_time": "2025-09-02T05:30:48.453971Z",
     "start_time": "2025-09-02T05:30:48.446082Z"
    }
   },
   "cell_type": "code",
   "source": [
    "class LinkedList:\n",
    "    def __init__(self):\n",
    "        self.head = None\n",
    "\n",
    "    def display(self):\n",
    "        if self.head is None:\n",
    "            print(\"Linked List is Empty\")\n",
    "            return\n",
    "\n",
    "        itr = self.head\n",
    "        llstr = \"\"\n",
    "\n",
    "        while itr:\n",
    "            llstr += str(itr.data) + \"--->\" if itr.next else str(itr.data)\n",
    "            itr = itr.next\n",
    "        print(llstr)\n",
    "        return\n",
    "\n",
    "    def reverse_linked_list(self, node):\n",
    "        if node is None or node.next is None:\n",
    "            return node\n",
    "\n",
    "        new_head = self.reverse_linked_list(node.next)\n",
    "\n",
    "        front = node.next\n",
    "        front.next = node\n",
    "        node.next = None\n",
    "        return new_head\n"
   ],
   "id": "cc5bed9b8bc33db3",
   "outputs": [],
   "execution_count": 14
  },
  {
   "metadata": {
    "ExecuteTime": {
     "end_time": "2025-09-02T05:30:50.994994Z",
     "start_time": "2025-09-02T05:30:50.987345Z"
    }
   },
   "cell_type": "code",
   "source": [
    "if __name__ == \"__main__\":\n",
    "    ll = LinkedList()\n",
    "    ll.head = Node(1)\n",
    "    ll.head.next = Node(2)\n",
    "    ll.head.next.next = Node(3)\n",
    "    ll.head.next.next.next = Node(4)\n",
    "    ll.head.next.next.next.next = Node(5)\n",
    "    ll.display()\n",
    "    ans = ll.reverse_linked_list(ll.head)\n",
    "    ll.head = ans\n",
    "    ll.display()"
   ],
   "id": "92085a15223d6408",
   "outputs": [
    {
     "name": "stdout",
     "output_type": "stream",
     "text": [
      "1--->2--->3--->4--->5\n",
      "5--->4--->3--->2--->1\n"
     ]
    }
   ],
   "execution_count": 15
  }
 ],
 "metadata": {
  "kernelspec": {
   "name": "python3",
   "language": "python",
   "display_name": "Python 3 (ipykernel)"
  }
 },
 "nbformat": 4,
 "nbformat_minor": 5
}
