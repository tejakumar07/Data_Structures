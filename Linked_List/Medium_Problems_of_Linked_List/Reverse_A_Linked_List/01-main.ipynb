{
 "cells": [
  {
   "metadata": {
    "ExecuteTime": {
     "end_time": "2025-09-02T04:24:20.598819Z",
     "start_time": "2025-09-02T04:24:20.595044Z"
    }
   },
   "cell_type": "code",
   "source": [
    "# Brute Force Approach\n",
    "# using stack data strcture"
   ],
   "id": "6fe64fc8e582cf98",
   "outputs": [],
   "execution_count": 10
  },
  {
   "metadata": {
    "ExecuteTime": {
     "end_time": "2025-09-02T04:14:09.568191Z",
     "start_time": "2025-09-02T04:14:09.562969Z"
    }
   },
   "cell_type": "code",
   "source": [
    "class Node:\n",
    "    def __init__(self, data):\n",
    "        self.data = data\n",
    "        self.next = None"
   ],
   "id": "2205688bede376ce",
   "outputs": [],
   "execution_count": 1
  },
  {
   "metadata": {
    "ExecuteTime": {
     "end_time": "2025-09-02T04:23:20.805582Z",
     "start_time": "2025-09-02T04:23:20.799797Z"
    }
   },
   "cell_type": "code",
   "source": [
    "class LinkedList:\n",
    "    def __init__(self):\n",
    "        self.head = None\n",
    "\n",
    "    def display(self):\n",
    "        if self.head is None:\n",
    "            print(\"Linked List is Empty\")\n",
    "            return\n",
    "\n",
    "        itr = self.head\n",
    "        llstr = \"\"\n",
    "\n",
    "        while itr:\n",
    "            llstr += str(itr.data) + \"--->\" if itr.next else str(itr.data)\n",
    "            itr = itr.next\n",
    "        print(llstr)\n",
    "        return\n",
    "\n",
    "    def reverse(self):\n",
    "        if self.head is None:\n",
    "            print(\"Linked List is Empty\")\n",
    "            return\n",
    "\n",
    "        itr = self.head\n",
    "        stack = []\n",
    "\n",
    "        while itr:\n",
    "            stack.append(itr.data)\n",
    "            itr = itr.next\n",
    "\n",
    "        itr = self.head\n",
    "\n",
    "        while itr:\n",
    "            itr.data = stack.pop()\n",
    "            itr = itr.next"
   ],
   "id": "446f85b79e790284",
   "outputs": [],
   "execution_count": 8
  },
  {
   "metadata": {
    "ExecuteTime": {
     "end_time": "2025-09-02T04:23:23.286367Z",
     "start_time": "2025-09-02T04:23:23.281347Z"
    }
   },
   "cell_type": "code",
   "source": [
    "if __name__ == \"__main__\":\n",
    "    ll = LinkedList()\n",
    "    ll.head = Node(1)\n",
    "    ll.head.next = Node(2)\n",
    "    ll.head.next.next = Node(3)\n",
    "    ll.head.next.next.next = Node(4)\n",
    "    ll.head.next.next.next.next = Node(5)\n",
    "    ll.display()\n",
    "    ll.reverse()\n",
    "    ll.display()"
   ],
   "id": "44e2d544a4f404e4",
   "outputs": [
    {
     "name": "stdout",
     "output_type": "stream",
     "text": [
      "1--->2--->3--->4--->5\n",
      "5--->4--->3--->2--->1\n"
     ]
    }
   ],
   "execution_count": 9
  }
 ],
 "metadata": {
  "kernelspec": {
   "name": "python3",
   "language": "python",
   "display_name": "Python 3 (ipykernel)"
  }
 },
 "nbformat": 4,
 "nbformat_minor": 5
}
