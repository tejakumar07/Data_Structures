{
 "cells": [
  {
   "metadata": {
    "ExecuteTime": {
     "end_time": "2025-09-02T04:40:15.641537Z",
     "start_time": "2025-09-02T04:40:15.637947Z"
    }
   },
   "cell_type": "code",
   "source": [
    "# Optimal Approach\n",
    "# using iterative"
   ],
   "id": "b12370e0d75acc7a",
   "outputs": [],
   "execution_count": 7
  },
  {
   "metadata": {
    "ExecuteTime": {
     "end_time": "2025-09-02T04:38:32.295109Z",
     "start_time": "2025-09-02T04:38:32.291281Z"
    }
   },
   "cell_type": "code",
   "source": [
    "class Node:\n",
    "    def __init__(self, data):\n",
    "        self.data = data\n",
    "        self.next = None"
   ],
   "id": "698121a90290cdfa",
   "outputs": [],
   "execution_count": 3
  },
  {
   "metadata": {
    "ExecuteTime": {
     "end_time": "2025-09-02T04:39:51.859129Z",
     "start_time": "2025-09-02T04:39:51.854438Z"
    }
   },
   "cell_type": "code",
   "source": [
    "class LinkedList:\n",
    "    def __init__(self):\n",
    "        self.head = None\n",
    "\n",
    "    def display(self):\n",
    "        if self.head is None:\n",
    "            print(\"Linked List is Empty\")\n",
    "            return\n",
    "\n",
    "        itr = self.head\n",
    "        llstr = \"\"\n",
    "\n",
    "        while itr:\n",
    "            llstr += str(itr.data) + \"--->\" if itr.next else str(itr.data)\n",
    "            itr = itr.next\n",
    "        print(llstr)\n",
    "        return\n",
    "\n",
    "    def reverse(self):\n",
    "        if self.head is None:\n",
    "            print(\"Linked List is Empty\")\n",
    "            return\n",
    "\n",
    "        prev = None\n",
    "        current = self.head\n",
    "\n",
    "        while current:\n",
    "            next_node = current.next\n",
    "            current.next = prev\n",
    "            prev = current\n",
    "            current = next_node\n",
    "        self.head = prev"
   ],
   "id": "577e00b8eb9cfd0a",
   "outputs": [],
   "execution_count": 5
  },
  {
   "metadata": {
    "ExecuteTime": {
     "end_time": "2025-09-02T04:39:54.422983Z",
     "start_time": "2025-09-02T04:39:54.418367Z"
    }
   },
   "cell_type": "code",
   "source": [
    "if __name__ == \"__main__\":\n",
    "    ll = LinkedList()\n",
    "    ll.head = Node(1)\n",
    "    ll.head.next = Node(2)\n",
    "    ll.head.next.next = Node(3)\n",
    "    ll.head.next.next.next = Node(4)\n",
    "    ll.head.next.next.next.next = Node(5)\n",
    "    ll.display()\n",
    "    ll.reverse()\n",
    "    ll.display()"
   ],
   "id": "f78a37b1a6ea4834",
   "outputs": [
    {
     "name": "stdout",
     "output_type": "stream",
     "text": [
      "1--->2--->3--->4--->5\n",
      "5--->4--->3--->2--->1\n"
     ]
    }
   ],
   "execution_count": 6
  }
 ],
 "metadata": {
  "kernelspec": {
   "name": "python3",
   "language": "python",
   "display_name": "Python 3 (ipykernel)"
  }
 },
 "nbformat": 4,
 "nbformat_minor": 5
}
